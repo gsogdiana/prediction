{
 "cells": [
  {
   "cell_type": "markdown",
   "metadata": {},
   "source": [
    "### Определяем необходимые библиотеки\n",
    "numpy - работа с матрицами и векторами\n",
    "\n",
    "pandas - для работы с данными\n",
    "\n",
    "scikit-learn (sklearn) - базовая библиотека для машинного обучения\n",
    "\n",
    "matplotlib.pyplot, seaborn - графики"
   ]
  },
  {
   "cell_type": "code",
   "execution_count": 1,
   "metadata": {},
   "outputs": [],
   "source": [
    "import numpy as np\n",
    "import pandas as pd\n",
    "from sklearn.linear_model import LogisticRegression\n",
    "from sklearn.ensemble import RandomForestClassifier\n",
    "from sklearn.neighbors import KNeighborsClassifier\n",
    "import matplotlib.pyplot as plt\n",
    "import os\n",
    "import seaborn as sns\n",
    "from sklearn.model_selection import KFold, train_test_split, GridSearchCV\n",
    "from sklearn.preprocessing import StandardScaler, Imputer\n",
    "from sklearn.metrics import roc_auc_score, accuracy_score, recall_score, precision_score, confusion_matrix"
   ]
  },
  {
   "cell_type": "code",
   "execution_count": 2,
   "metadata": {},
   "outputs": [],
   "source": [
    "def losses(y_true, y_pred):\n",
    "    '''\n",
    "    Данная функция вычисляет суммарный выигрыш/проигрыш исходя из заранее заданной матрицы потерь/выигрышей.\n",
    "    '''\n",
    "    from sklearn.metrics import confusion_matrix\n",
    "    w1 = 0\n",
    "    w2 = -100\n",
    "    w3 = 0\n",
    "    w4 = 20\n",
    "    conf_matrix = confusion_matrix(y_true, y_pred)\n",
    "    return w1*conf_matrix[0,0] + w2*conf_matrix[0,1] + w3*conf_matrix[1,0] + w4*conf_matrix[1,1]"
   ]
  },
  {
   "cell_type": "code",
   "execution_count": 3,
   "metadata": {},
   "outputs": [],
   "source": [
    "def reward_ratio(y_true, y_pred):\n",
    "    '''\n",
    "    Вычисляет функцию потерь в процентах от идеального случая\n",
    "    '''\n",
    "    return losses(y_true, y_pred)/losses(y_true, y_true)"
   ]
  },
  {
   "cell_type": "code",
   "execution_count": 4,
   "metadata": {},
   "outputs": [],
   "source": [
    "def Resampling(df, target, sampling_type = 'over', seed = 42):\n",
    "    '''\n",
    "    Собственная функция для выполнения процедуры по устранению дисбаланса классов.\n",
    "    Имеет две стратегии работы:\n",
    "    1) 'over' (по умолчанию) - выполняет oversampling (случайно копирует элементы минорного класса до достижения баланса)\n",
    "    2) 'under' - выполняет undersampling (удаляет случайным образом элементы мажорного класса до достижения баланса классов)\n",
    "    '''\n",
    "    if sampling_type != 'over' and sampling_type != 'under': \n",
    "        raise NameError('This type of sampling is not supported') \n",
    "    if target not in df.columns: \n",
    "        raise NameError('''This column don't exist in pd.DataFrame''') \n",
    "    from sklearn.utils import resample\n",
    "    major = 0\n",
    "    minor = 0\n",
    "    if df[target].value_counts()[0] > df[target].value_counts()[1]:\n",
    "        major = 0\n",
    "        minor = 1\n",
    "    else:\n",
    "        major = 1\n",
    "        minor = 0\n",
    "    df_majority = df[df[target] == major] \n",
    "    df_minority = df[df[target] == minor] \n",
    "    if sampling_type == 'over': \n",
    "        upsample = df[target].value_counts()[0] \n",
    "        df_upsampled = resample(df_minority, replace = True, n_samples = upsample, random_state = seed) \n",
    "        df2 = pd.concat([df_majority, df_upsampled]) \n",
    "        return df2 \n",
    "    if sampling_type == 'under': \n",
    "        undersample = df[target].value_counts()[1] \n",
    "        df_undersampled = resample(df_majority, replace = False, n_samples = undersample, random_state = seed) \n",
    "        df2 = pd.concat([df_minority, df_undersampled]) \n",
    "        return df2"
   ]
  },
  {
   "cell_type": "code",
   "execution_count": 5,
   "metadata": {},
   "outputs": [],
   "source": [
    "df = pd.read_csv('data.csv', sep = ';', index_col = 'BAN_KEY') # чтение данных"
   ]
  },
  {
   "cell_type": "markdown",
   "metadata": {},
   "source": [
    "Проверим типы данных в столбцах"
   ]
  },
  {
   "cell_type": "code",
   "execution_count": 6,
   "metadata": {},
   "outputs": [
    {
     "name": "stdout",
     "output_type": "stream",
     "text": [
      "SUBS_KEY                    int64\n",
      "AGE                       float64\n",
      "GENDER                     object\n",
      "PP_GROUP                   object\n",
      "PP                         object\n",
      "CHANNEL                    object\n",
      "LTE_IND                     int64\n",
      "DOUBLE_SIM                  int64\n",
      "CHURN_DAYS_IND              int64\n",
      "RECHARGES_SUM               int64\n",
      "RECHARGES_QUANTITY          int64\n",
      "VOICE1                      int64\n",
      "VOICE2                      int64\n",
      "VOICE3                      int64\n",
      "VOICE4                      int64\n",
      "VOICE5                      int64\n",
      "VOICE6                      int64\n",
      "VOICE7                      int64\n",
      "VOICE8                      int64\n",
      "VOICE9                      int64\n",
      "VOICE10                     int64\n",
      "VOICE11                     int64\n",
      "VOICE12                     int64\n",
      "VOICE13                     int64\n",
      "VOICE14                     int64\n",
      "VOICE15                     int64\n",
      "VOICE16                     int64\n",
      "VOICE17                     int64\n",
      "VOICE18                     int64\n",
      "VOICE19                     int64\n",
      "VOICE20                     int64\n",
      "VOICE21                     int64\n",
      "VOICE22                     int64\n",
      "VOICE23                     int64\n",
      "VOICE24                     int64\n",
      "UNIQUE_SUBS_CALLED_OUT      int64\n",
      "UNIQUE_SUBS_CALLED_IN       int64\n",
      "DATA_TRAFFIC                int64\n",
      "DATA_REVENUE                int64\n",
      "MESSAGE_REVENUE             int64\n",
      "VOICE_REVENUE               int64\n",
      "VAS_REVENUE                 int64\n",
      "dtype: object\n"
     ]
    }
   ],
   "source": [
    "print(df.dtypes)"
   ]
  },
  {
   "cell_type": "code",
   "execution_count": 7,
   "metadata": {},
   "outputs": [
    {
     "data": {
      "text/plain": [
       "SUBS_KEY                  919\n",
       "AGE                        66\n",
       "GENDER                      2\n",
       "PP_GROUP                   25\n",
       "PP                         75\n",
       "CHANNEL                     8\n",
       "LTE_IND                     2\n",
       "DOUBLE_SIM                  2\n",
       "CHURN_DAYS_IND             35\n",
       "RECHARGES_SUM             233\n",
       "RECHARGES_QUANTITY         27\n",
       "VOICE1                      3\n",
       "VOICE2                      2\n",
       "VOICE3                      2\n",
       "VOICE4                      4\n",
       "VOICE5                      1\n",
       "VOICE6                      1\n",
       "VOICE7                     46\n",
       "VOICE8                     46\n",
       "VOICE9                    102\n",
       "VOICE10                   117\n",
       "VOICE11                     3\n",
       "VOICE12                    11\n",
       "VOICE13                    13\n",
       "VOICE14                    16\n",
       "VOICE15                    27\n",
       "VOICE16                    40\n",
       "VOICE17                    20\n",
       "VOICE18                    25\n",
       "VOICE19                    55\n",
       "VOICE20                    44\n",
       "VOICE21                   108\n",
       "VOICE22                   134\n",
       "VOICE23                     2\n",
       "VOICE24                     1\n",
       "UNIQUE_SUBS_CALLED_OUT     54\n",
       "UNIQUE_SUBS_CALLED_IN      45\n",
       "DATA_TRAFFIC              355\n",
       "DATA_REVENUE              116\n",
       "MESSAGE_REVENUE            27\n",
       "VOICE_REVENUE             106\n",
       "VAS_REVENUE                88\n",
       "dtype: int64"
      ]
     },
     "execution_count": 7,
     "metadata": {},
     "output_type": "execute_result"
    }
   ],
   "source": [
    "df.nunique() # проверка на количество уникальных значений в каждом столбце"
   ]
  },
  {
   "cell_type": "code",
   "execution_count": 8,
   "metadata": {},
   "outputs": [],
   "source": [
    "df2 = df.drop(['SUBS_KEY', 'PP'], axis = 1)"
   ]
  },
  {
   "cell_type": "code",
   "execution_count": 9,
   "metadata": {},
   "outputs": [
    {
     "data": {
      "text/html": [
       "<div>\n",
       "<style scoped>\n",
       "    .dataframe tbody tr th:only-of-type {\n",
       "        vertical-align: middle;\n",
       "    }\n",
       "\n",
       "    .dataframe tbody tr th {\n",
       "        vertical-align: top;\n",
       "    }\n",
       "\n",
       "    .dataframe thead th {\n",
       "        text-align: right;\n",
       "    }\n",
       "</style>\n",
       "<table border=\"1\" class=\"dataframe\">\n",
       "  <thead>\n",
       "    <tr style=\"text-align: right;\">\n",
       "      <th></th>\n",
       "      <th>AGE</th>\n",
       "      <th>GENDER</th>\n",
       "      <th>PP_GROUP</th>\n",
       "      <th>CHANNEL</th>\n",
       "      <th>LTE_IND</th>\n",
       "      <th>DOUBLE_SIM</th>\n",
       "      <th>CHURN_DAYS_IND</th>\n",
       "      <th>RECHARGES_SUM</th>\n",
       "      <th>RECHARGES_QUANTITY</th>\n",
       "      <th>VOICE1</th>\n",
       "      <th>...</th>\n",
       "      <th>VOICE22</th>\n",
       "      <th>VOICE23</th>\n",
       "      <th>VOICE24</th>\n",
       "      <th>UNIQUE_SUBS_CALLED_OUT</th>\n",
       "      <th>UNIQUE_SUBS_CALLED_IN</th>\n",
       "      <th>DATA_TRAFFIC</th>\n",
       "      <th>DATA_REVENUE</th>\n",
       "      <th>MESSAGE_REVENUE</th>\n",
       "      <th>VOICE_REVENUE</th>\n",
       "      <th>VAS_REVENUE</th>\n",
       "    </tr>\n",
       "    <tr>\n",
       "      <th>BAN_KEY</th>\n",
       "      <th></th>\n",
       "      <th></th>\n",
       "      <th></th>\n",
       "      <th></th>\n",
       "      <th></th>\n",
       "      <th></th>\n",
       "      <th></th>\n",
       "      <th></th>\n",
       "      <th></th>\n",
       "      <th></th>\n",
       "      <th></th>\n",
       "      <th></th>\n",
       "      <th></th>\n",
       "      <th></th>\n",
       "      <th></th>\n",
       "      <th></th>\n",
       "      <th></th>\n",
       "      <th></th>\n",
       "      <th></th>\n",
       "      <th></th>\n",
       "      <th></th>\n",
       "    </tr>\n",
       "  </thead>\n",
       "  <tbody>\n",
       "    <tr>\n",
       "      <th>185094600</th>\n",
       "      <td>60.0</td>\n",
       "      <td>F</td>\n",
       "      <td>PP_WELCOME</td>\n",
       "      <td>Evroset</td>\n",
       "      <td>0</td>\n",
       "      <td>0</td>\n",
       "      <td>0</td>\n",
       "      <td>500</td>\n",
       "      <td>1</td>\n",
       "      <td>0</td>\n",
       "      <td>...</td>\n",
       "      <td>0</td>\n",
       "      <td>0</td>\n",
       "      <td>0</td>\n",
       "      <td>4</td>\n",
       "      <td>6</td>\n",
       "      <td>0</td>\n",
       "      <td>0</td>\n",
       "      <td>0</td>\n",
       "      <td>12</td>\n",
       "      <td>32</td>\n",
       "    </tr>\n",
       "    <tr>\n",
       "      <th>185196700</th>\n",
       "      <td>48.0</td>\n",
       "      <td>M</td>\n",
       "      <td>PP_ALL3</td>\n",
       "      <td>BTS</td>\n",
       "      <td>0</td>\n",
       "      <td>0</td>\n",
       "      <td>1</td>\n",
       "      <td>0</td>\n",
       "      <td>0</td>\n",
       "      <td>0</td>\n",
       "      <td>...</td>\n",
       "      <td>0</td>\n",
       "      <td>0</td>\n",
       "      <td>0</td>\n",
       "      <td>2</td>\n",
       "      <td>2</td>\n",
       "      <td>0</td>\n",
       "      <td>0</td>\n",
       "      <td>0</td>\n",
       "      <td>0</td>\n",
       "      <td>0</td>\n",
       "    </tr>\n",
       "    <tr>\n",
       "      <th>351403700</th>\n",
       "      <td>42.0</td>\n",
       "      <td>M</td>\n",
       "      <td>PP_OTHER_ONNET</td>\n",
       "      <td>Evroset</td>\n",
       "      <td>1</td>\n",
       "      <td>1</td>\n",
       "      <td>0</td>\n",
       "      <td>3504</td>\n",
       "      <td>9</td>\n",
       "      <td>0</td>\n",
       "      <td>...</td>\n",
       "      <td>1</td>\n",
       "      <td>0</td>\n",
       "      <td>0</td>\n",
       "      <td>15</td>\n",
       "      <td>17</td>\n",
       "      <td>514</td>\n",
       "      <td>50</td>\n",
       "      <td>0</td>\n",
       "      <td>215</td>\n",
       "      <td>216</td>\n",
       "    </tr>\n",
       "    <tr>\n",
       "      <th>470555700</th>\n",
       "      <td>50.0</td>\n",
       "      <td>M</td>\n",
       "      <td>PP_WELCOME</td>\n",
       "      <td>Monobrand Franchise</td>\n",
       "      <td>0</td>\n",
       "      <td>1</td>\n",
       "      <td>31</td>\n",
       "      <td>0</td>\n",
       "      <td>0</td>\n",
       "      <td>0</td>\n",
       "      <td>...</td>\n",
       "      <td>0</td>\n",
       "      <td>0</td>\n",
       "      <td>0</td>\n",
       "      <td>2</td>\n",
       "      <td>2</td>\n",
       "      <td>0</td>\n",
       "      <td>0</td>\n",
       "      <td>0</td>\n",
       "      <td>0</td>\n",
       "      <td>0</td>\n",
       "    </tr>\n",
       "    <tr>\n",
       "      <th>476344900</th>\n",
       "      <td>46.0</td>\n",
       "      <td>M</td>\n",
       "      <td>PP_SEB_D3</td>\n",
       "      <td>Monobrand Franchise</td>\n",
       "      <td>0</td>\n",
       "      <td>0</td>\n",
       "      <td>4</td>\n",
       "      <td>0</td>\n",
       "      <td>0</td>\n",
       "      <td>0</td>\n",
       "      <td>...</td>\n",
       "      <td>0</td>\n",
       "      <td>0</td>\n",
       "      <td>0</td>\n",
       "      <td>2</td>\n",
       "      <td>3</td>\n",
       "      <td>0</td>\n",
       "      <td>0</td>\n",
       "      <td>0</td>\n",
       "      <td>0</td>\n",
       "      <td>0</td>\n",
       "    </tr>\n",
       "  </tbody>\n",
       "</table>\n",
       "<p>5 rows × 40 columns</p>\n",
       "</div>"
      ],
      "text/plain": [
       "            AGE GENDER        PP_GROUP              CHANNEL  LTE_IND  \\\n",
       "BAN_KEY                                                                \n",
       "185094600  60.0      F      PP_WELCOME              Evroset        0   \n",
       "185196700  48.0      M         PP_ALL3                  BTS        0   \n",
       "351403700  42.0      M  PP_OTHER_ONNET              Evroset        1   \n",
       "470555700  50.0      M      PP_WELCOME  Monobrand Franchise        0   \n",
       "476344900  46.0      M       PP_SEB_D3  Monobrand Franchise        0   \n",
       "\n",
       "           DOUBLE_SIM  CHURN_DAYS_IND  RECHARGES_SUM  RECHARGES_QUANTITY  \\\n",
       "BAN_KEY                                                                    \n",
       "185094600           0               0            500                   1   \n",
       "185196700           0               1              0                   0   \n",
       "351403700           1               0           3504                   9   \n",
       "470555700           1              31              0                   0   \n",
       "476344900           0               4              0                   0   \n",
       "\n",
       "           VOICE1  ...  VOICE22  VOICE23  VOICE24  UNIQUE_SUBS_CALLED_OUT  \\\n",
       "BAN_KEY            ...                                                      \n",
       "185094600       0  ...        0        0        0                       4   \n",
       "185196700       0  ...        0        0        0                       2   \n",
       "351403700       0  ...        1        0        0                      15   \n",
       "470555700       0  ...        0        0        0                       2   \n",
       "476344900       0  ...        0        0        0                       2   \n",
       "\n",
       "           UNIQUE_SUBS_CALLED_IN  DATA_TRAFFIC  DATA_REVENUE  MESSAGE_REVENUE  \\\n",
       "BAN_KEY                                                                         \n",
       "185094600                      6             0             0                0   \n",
       "185196700                      2             0             0                0   \n",
       "351403700                     17           514            50                0   \n",
       "470555700                      2             0             0                0   \n",
       "476344900                      3             0             0                0   \n",
       "\n",
       "           VOICE_REVENUE  VAS_REVENUE  \n",
       "BAN_KEY                                \n",
       "185094600             12           32  \n",
       "185196700              0            0  \n",
       "351403700            215          216  \n",
       "470555700              0            0  \n",
       "476344900              0            0  \n",
       "\n",
       "[5 rows x 40 columns]"
      ]
     },
     "execution_count": 9,
     "metadata": {},
     "output_type": "execute_result"
    }
   ],
   "source": [
    "df2.head() # посмотрим на данные"
   ]
  },
  {
   "cell_type": "markdown",
   "metadata": {},
   "source": [
    "Бинаризуем категориальные переменные"
   ]
  },
  {
   "cell_type": "code",
   "execution_count": 10,
   "metadata": {},
   "outputs": [],
   "source": [
    "to_dummy = pd.get_dummies(df2[['GENDER', 'PP_GROUP', 'CHANNEL', 'LTE_IND', 'DOUBLE_SIM']], prefix = 'bin', drop_first = True)"
   ]
  },
  {
   "cell_type": "code",
   "execution_count": 11,
   "metadata": {},
   "outputs": [],
   "source": [
    "df2 = df2.drop(['GENDER', 'PP_GROUP', 'CHANNEL', 'LTE_IND', 'DOUBLE_SIM'], axis = 1)"
   ]
  },
  {
   "cell_type": "code",
   "execution_count": 12,
   "metadata": {},
   "outputs": [],
   "source": [
    "data = pd.concat([df2, to_dummy], axis = 1)"
   ]
  },
  {
   "cell_type": "markdown",
   "metadata": {},
   "source": [
    "Определим целевую переменную для решения задачи классификации"
   ]
  },
  {
   "cell_type": "code",
   "execution_count": 13,
   "metadata": {},
   "outputs": [],
   "source": [
    "data['target'] = data['CHURN_DAYS_IND'].apply(lambda x: 0 if x >= 20 else 1)\n",
    "data = data.drop('CHURN_DAYS_IND', axis = 1)"
   ]
  },
  {
   "cell_type": "markdown",
   "metadata": {},
   "source": [
    "### Сгенерируем новые признаки"
   ]
  },
  {
   "cell_type": "code",
   "execution_count": 14,
   "metadata": {},
   "outputs": [],
   "source": [
    "data['voicevas'] = data.VOICE_REVENUE/data.VAS_REVENUE\n",
    "data['rev_per_mb'] = data.DATA_REVENUE/data.DATA_TRAFFIC\n",
    "data['avg_recharge'] = data.RECHARGES_SUM/data.RECHARGES_QUANTITY\n",
    "data['ratio_in_out'] = data.VOICE9/data.VOICE10\n",
    "data['ratio_unique_subs'] = data.UNIQUE_SUBS_CALLED_OUT/data.UNIQUE_SUBS_CALLED_IN\n",
    "data = data.replace([np.inf, -np.inf], np.nan).dropna(axis=1)"
   ]
  },
  {
   "cell_type": "markdown",
   "metadata": {},
   "source": [
    "Разобьем данные на обучающую и тестовую выборку"
   ]
  },
  {
   "cell_type": "code",
   "execution_count": 15,
   "metadata": {},
   "outputs": [],
   "source": [
    "X_train, X_test = train_test_split(data, test_size = 0.2, random_state = 42)"
   ]
  },
  {
   "cell_type": "markdown",
   "metadata": {},
   "source": [
    "Посмотрим на корреляционную матрицу (не особо много чего понятно)"
   ]
  },
  {
   "cell_type": "code",
   "execution_count": 16,
   "metadata": {},
   "outputs": [
    {
     "data": {
      "text/plain": [
       "<matplotlib.axes._subplots.AxesSubplot at 0x7f5f5fab9ba8>"
      ]
     },
     "execution_count": 16,
     "metadata": {},
     "output_type": "execute_result"
    },
    {
     "data": {
      "image/png": "[encoded data removed]",
      "text/plain": [
       "<Figure size 2160x2160 with 2 Axes>"
      ]
     },
     "metadata": {
      "needs_background": "light"
     },
     "output_type": "display_data"
    }
   ],
   "source": [
    "corr_matrix = X_train.corr()\n",
    "plt.figure(figsize = (30, 30))\n",
    "sns.heatmap(corr_matrix, xticklabels = X_train.columns, yticklabels = X_train.columns)"
   ]
  },
  {
   "cell_type": "markdown",
   "metadata": {},
   "source": [
    "Посмотрим на 10 переменных, наиболее коррелирующих с целевой"
   ]
  },
  {
   "cell_type": "code",
   "execution_count": 17,
   "metadata": {},
   "outputs": [
    {
     "data": {
      "text/plain": [
       "target                    1.000000\n",
       "DATA_REVENUE              0.197320\n",
       "UNIQUE_SUBS_CALLED_IN     0.167678\n",
       "RECHARGES_QUANTITY        0.164225\n",
       "UNIQUE_SUBS_CALLED_OUT    0.159444\n",
       "VOICE10                   0.139276\n",
       "RECHARGES_SUM             0.121679\n",
       "DATA_TRAFFIC              0.120283\n",
       "VAS_REVENUE               0.112332\n",
       "VOICE9                    0.111463\n",
       "Name: target, dtype: float64"
      ]
     },
     "execution_count": 17,
     "metadata": {},
     "output_type": "execute_result"
    }
   ],
   "source": [
    "corr_matrix['target'].sort_values(ascending = False)[:10]"
   ]
  },
  {
   "cell_type": "code",
   "execution_count": 18,
   "metadata": {},
   "outputs": [
    {
     "data": {
      "text/plain": [
       "1    671\n",
       "0     64\n",
       "Name: target, dtype: int64"
      ]
     },
     "execution_count": 18,
     "metadata": {},
     "output_type": "execute_result"
    }
   ],
   "source": [
    "# Смотрим на баланс классов\n",
    "# 595 лояльных, 140 отточников\n",
    "X_train['target'].value_counts()"
   ]
  },
  {
   "cell_type": "markdown",
   "metadata": {},
   "source": [
    "Подготовим обучающие наборы, избавленные от дисбаланса классов (будем сравнивать, что покажет себя лучше)"
   ]
  },
  {
   "cell_type": "code",
   "execution_count": 19,
   "metadata": {},
   "outputs": [],
   "source": [
    "target = 'target'\n",
    "X_train_upsampled = Resampling(X_train, target, sampling_type = 'over')\n",
    "X_train_undersampled = Resampling(X_train, target, sampling_type = 'under')\n",
    "y_train_upsampled = X_train_upsampled[target]\n",
    "y_train_undersampled = X_train_undersampled[target]"
   ]
  },
  {
   "cell_type": "code",
   "execution_count": 20,
   "metadata": {},
   "outputs": [],
   "source": [
    "train_columns = list(data.columns)\n",
    "train_columns.remove(target)\n",
    "y_train = X_train[target]\n",
    "X_train = X_train[train_columns]\n",
    "y_test = X_test[target]\n",
    "X_test = X_test[train_columns]\n",
    "\n",
    "X_train_upsampled = X_train_upsampled[train_columns]\n",
    "X_train_undersampled = X_train_undersampled[train_columns]"
   ]
  },
  {
   "cell_type": "markdown",
   "metadata": {},
   "source": [
    "Будем оценивать модель с помощью кросс-валидации на 5 фолдов"
   ]
  },
  {
   "cell_type": "code",
   "execution_count": 21,
   "metadata": {},
   "outputs": [],
   "source": [
    "kf = KFold(n_splits = 5, shuffle = True, random_state = 42)"
   ]
  },
  {
   "cell_type": "markdown",
   "metadata": {},
   "source": [
    "### Логистическая регрессия (без отбалансированного обучающего набора)"
   ]
  },
  {
   "cell_type": "code",
   "execution_count": 22,
   "metadata": {},
   "outputs": [
    {
     "name": "stderr",
     "output_type": "stream",
     "text": [
      "/home/lezenith/anaconda3/lib/python3.7/site-packages/sklearn/utils/deprecation.py:58: DeprecationWarning: Class Imputer is deprecated; Imputer was deprecated in version 0.20 and will be removed in 0.22. Import impute.SimpleImputer from sklearn instead.\n",
      "  warnings.warn(msg, category=DeprecationWarning)\n"
     ]
    },
    {
     "name": "stdout",
     "output_type": "stream",
     "text": [
      "{'C': 2.4000000000000004, 'penalty': 'l1'}\n"
     ]
    }
   ],
   "source": [
    "logit_model = LogisticRegression(solver = 'liblinear') # задали модель\n",
    "logit_params = {'penalty': ('l1', 'l2'),\n",
    "               'C': np.linspace(0.1, 5, num = 50)} # задали пространство перебора параметров\n",
    "gscv = GridSearchCV(estimator = logit_model, param_grid = logit_params, scoring = 'precision', cv = kf)\n",
    "\n",
    "imp = Imputer(strategy = 'median') # избавляемся от пропущенных значений, используем медиану как робастную величину\n",
    "std = StandardScaler() # нормируем данные (приводим все в одну шкалу)\n",
    "X_train = imp.fit_transform(X_train)\n",
    "X_test = imp.transform(X_test)\n",
    "X_train = std.fit_transform(X_train)\n",
    "X_test = std.transform(X_test)\n",
    "\n",
    "gscv.fit(X_train, y_train) # обучаем модель\n",
    "print(gscv.best_params_)"
   ]
  },
  {
   "cell_type": "code",
   "execution_count": 23,
   "metadata": {},
   "outputs": [
    {
     "data": {
      "text/plain": [
       "LogisticRegression(C=2.2, class_weight=None, dual=False, fit_intercept=True,\n",
       "          intercept_scaling=1, max_iter=100, multi_class='warn',\n",
       "          n_jobs=None, penalty='l1', random_state=None, solver='liblinear',\n",
       "          tol=0.0001, verbose=0, warm_start=False)"
      ]
     },
     "execution_count": 23,
     "metadata": {},
     "output_type": "execute_result"
    }
   ],
   "source": [
    "logreg = LogisticRegression(penalty = 'l1', C = 2.2, solver = 'liblinear')\n",
    "logreg.fit(X_train, y_train)"
   ]
  },
  {
   "cell_type": "code",
   "execution_count": 24,
   "metadata": {},
   "outputs": [
    {
     "name": "stdout",
     "output_type": "stream",
     "text": [
      "AUC ROC on train = 0.92\n",
      "AUC ROC on test = 0.79\n",
      "Accuracy on train = 0.92\n",
      "Accuracy on test = 0.92\n",
      "Recall on train = 1.00\n",
      "Recall on test = 0.99\n",
      "Precision on train = 0.92\n",
      "Precision on test = 0.93\n"
     ]
    }
   ],
   "source": [
    "logreg_pred_proba_train = logreg.predict_proba(X_train)[:, 1]\n",
    "logreg_pred_proba_test = logreg.predict_proba(X_test)[:, 1]\n",
    "logreg_pred_class_train = logreg.predict(X_train)\n",
    "logreg_pred_class_test = logreg.predict(X_test)\n",
    "print('AUC ROC on train = %4.2f' % roc_auc_score(y_train, logreg_pred_proba_train))\n",
    "print('AUC ROC on test = %4.2f' %roc_auc_score(y_test, logreg_pred_proba_test))\n",
    "print('Accuracy on train = %4.2f' %accuracy_score(y_train, logreg_pred_class_train))\n",
    "print('Accuracy on test = %4.2f' %accuracy_score(y_test, logreg_pred_class_test))\n",
    "print('Recall on train = %4.2f' %recall_score(y_train, logreg_pred_class_train))\n",
    "print('Recall on test = %4.2f' %recall_score(y_test, logreg_pred_class_test))\n",
    "print('Precision on train = %4.2f' %precision_score(y_train, logreg_pred_class_train))\n",
    "print('Precision on test = %4.2f' %precision_score(y_test, logreg_pred_class_test))"
   ]
  },
  {
   "cell_type": "markdown",
   "metadata": {},
   "source": [
    "### Логистическая регрессия (undersampling)"
   ]
  },
  {
   "cell_type": "code",
   "execution_count": 25,
   "metadata": {},
   "outputs": [
    {
     "name": "stderr",
     "output_type": "stream",
     "text": [
      "/home/lezenith/anaconda3/lib/python3.7/site-packages/sklearn/utils/deprecation.py:58: DeprecationWarning: Class Imputer is deprecated; Imputer was deprecated in version 0.20 and will be removed in 0.22. Import impute.SimpleImputer from sklearn instead.\n",
      "  warnings.warn(msg, category=DeprecationWarning)\n"
     ]
    },
    {
     "name": "stdout",
     "output_type": "stream",
     "text": [
      "{'C': 3.8000000000000003, 'penalty': 'l1'}\n"
     ]
    }
   ],
   "source": [
    "logit_model = LogisticRegression(solver = 'liblinear')\n",
    "logit_params = {'penalty': ('l1', 'l2'),\n",
    "               'C': np.linspace(0.1, 5, num = 50)}\n",
    "gscv = GridSearchCV(estimator = logit_model, param_grid = logit_params, scoring = 'precision', cv = kf)\n",
    "\n",
    "imp = Imputer(strategy = 'median')\n",
    "std = StandardScaler()\n",
    "X_train_undersampled = imp.fit_transform(X_train_undersampled)\n",
    "X_test_under = imp.transform(X_test)\n",
    "X_train_undersampled = std.fit_transform(X_train_undersampled)\n",
    "X_test_under = std.transform(X_test_under)\n",
    "\n",
    "gscv.fit(X_train_undersampled, y_train_undersampled)\n",
    "print(gscv.best_params_)"
   ]
  },
  {
   "cell_type": "code",
   "execution_count": 26,
   "metadata": {},
   "outputs": [
    {
     "data": {
      "text/plain": [
       "LogisticRegression(C=3.5, class_weight=None, dual=False, fit_intercept=True,\n",
       "          intercept_scaling=1, max_iter=100, multi_class='warn',\n",
       "          n_jobs=None, penalty='l1', random_state=None, solver='liblinear',\n",
       "          tol=0.0001, verbose=0, warm_start=False)"
      ]
     },
     "execution_count": 26,
     "metadata": {},
     "output_type": "execute_result"
    }
   ],
   "source": [
    "logreg = LogisticRegression(penalty = 'l1', C = 3.5, solver = 'liblinear')\n",
    "logreg.fit(X_train_undersampled, y_train_undersampled)"
   ]
  },
  {
   "cell_type": "code",
   "execution_count": 27,
   "metadata": {},
   "outputs": [],
   "source": [
    "logreg_pred_class_test = logreg.predict(X_test_under)"
   ]
  },
  {
   "cell_type": "code",
   "execution_count": 28,
   "metadata": {},
   "outputs": [
    {
     "name": "stdout",
     "output_type": "stream",
     "text": [
      "Loss function =  980\n",
      "Reward ratio = 0.29\n"
     ]
    }
   ],
   "source": [
    "print('Loss function = %4.0f' % losses(y_test, logreg_pred_class_test))\n",
    "print('Reward ratio = %4.2f' % reward_ratio(y_test, logreg_pred_class_test))"
   ]
  },
  {
   "cell_type": "markdown",
   "metadata": {},
   "source": [
    "### Random Forest"
   ]
  },
  {
   "cell_type": "code",
   "execution_count": 29,
   "metadata": {},
   "outputs": [
    {
     "name": "stdout",
     "output_type": "stream",
     "text": [
      "{'max_depth': 7, 'n_estimators': 40}\n"
     ]
    }
   ],
   "source": [
    "rf_model = RandomForestClassifier(random_state = 42)\n",
    "rf_params = {'n_estimators': list(range(10, 120, 10)),\n",
    "            'max_depth': (4,5,6,7)}\n",
    "gscvrf = GridSearchCV(estimator = rf_model, param_grid = rf_params, scoring = 'precision', cv = kf)\n",
    "gscvrf.fit(X_train, y_train)\n",
    "print(gscvrf.best_params_)"
   ]
  },
  {
   "cell_type": "code",
   "execution_count": 30,
   "metadata": {},
   "outputs": [
    {
     "data": {
      "text/plain": [
       "RandomForestClassifier(bootstrap=True, class_weight=None, criterion='gini',\n",
       "            max_depth=7, max_features='auto', max_leaf_nodes=None,\n",
       "            min_impurity_decrease=0.0, min_impurity_split=None,\n",
       "            min_samples_leaf=1, min_samples_split=2,\n",
       "            min_weight_fraction_leaf=0.0, n_estimators=10, n_jobs=None,\n",
       "            oob_score=False, random_state=None, verbose=0,\n",
       "            warm_start=False)"
      ]
     },
     "execution_count": 30,
     "metadata": {},
     "output_type": "execute_result"
    }
   ],
   "source": [
    "rf_model = RandomForestClassifier(n_estimators=10, max_depth=7)\n",
    "rf_model.fit(X_train, y_train)"
   ]
  },
  {
   "cell_type": "code",
   "execution_count": 31,
   "metadata": {},
   "outputs": [
    {
     "name": "stdout",
     "output_type": "stream",
     "text": [
      "AUC ROC on train = 0.96\n",
      "AUC ROC on test = 0.74\n",
      "Accuracy on train = 0.92\n",
      "Accuracy on test = 0.93\n",
      "Recall on train = 1.00\n",
      "Recall on test = 1.00\n",
      "Precision on train = 0.92\n",
      "Precision on test = 0.93\n"
     ]
    }
   ],
   "source": [
    "rf_pred_proba_train = rf_model.predict_proba(X_train)[:, 1]\n",
    "rf_pred_proba_test = rf_model.predict_proba(X_test)[:, 1]\n",
    "rf_pred_class_train = rf_model.predict(X_train)\n",
    "rf_pred_class_test = rf_model.predict(X_test)\n",
    "print('AUC ROC on train = %4.2f' % roc_auc_score(y_train, rf_pred_proba_train))\n",
    "print('AUC ROC on test = %4.2f' %roc_auc_score(y_test, rf_pred_proba_test))\n",
    "print('Accuracy on train = %4.2f' %accuracy_score(y_train, rf_pred_class_train))\n",
    "print('Accuracy on test = %4.2f' %accuracy_score(y_test, rf_pred_class_test))\n",
    "print('Recall on train = %4.2f' %recall_score(y_train, rf_pred_class_train))\n",
    "print('Recall on test = %4.2f' %recall_score(y_test, rf_pred_class_test))\n",
    "print('Precision on train = %4.2f' %precision_score(y_train, rf_pred_class_train))\n",
    "print('Precision on test = %4.2f' %precision_score(y_test, rf_pred_class_test))"
   ]
  },
  {
   "cell_type": "markdown",
   "metadata": {},
   "source": [
    "### Random Forest (undersampled)"
   ]
  },
  {
   "cell_type": "code",
   "execution_count": 32,
   "metadata": {},
   "outputs": [
    {
     "name": "stdout",
     "output_type": "stream",
     "text": [
      "{'max_depth': 7, 'n_estimators': 10}\n"
     ]
    }
   ],
   "source": [
    "rf_model = RandomForestClassifier(random_state = 42)\n",
    "rf_params = {'n_estimators': list(range(10, 120, 10)),\n",
    "            'max_depth': (4,5,6,7)}\n",
    "gscvrf = GridSearchCV(estimator = rf_model, param_grid = rf_params, scoring = 'precision', cv = kf)\n",
    "gscvrf.fit(X_train_undersampled, y_train_undersampled)\n",
    "print(gscvrf.best_params_)"
   ]
  },
  {
   "cell_type": "code",
   "execution_count": 33,
   "metadata": {},
   "outputs": [
    {
     "data": {
      "text/plain": [
       "RandomForestClassifier(bootstrap=True, class_weight=None, criterion='gini',\n",
       "            max_depth=5, max_features='auto', max_leaf_nodes=None,\n",
       "            min_impurity_decrease=0.0, min_impurity_split=None,\n",
       "            min_samples_leaf=1, min_samples_split=2,\n",
       "            min_weight_fraction_leaf=0.0, n_estimators=10, n_jobs=None,\n",
       "            oob_score=False, random_state=None, verbose=0,\n",
       "            warm_start=False)"
      ]
     },
     "execution_count": 33,
     "metadata": {},
     "output_type": "execute_result"
    }
   ],
   "source": [
    "rf_model = RandomForestClassifier(n_estimators=10, max_depth=5)\n",
    "rf_model.fit(X_train_undersampled, y_train_undersampled)"
   ]
  },
  {
   "cell_type": "code",
   "execution_count": 34,
   "metadata": {},
   "outputs": [],
   "source": [
    "rf_pred_class_test = rf_model.predict(X_test_under)"
   ]
  },
  {
   "cell_type": "code",
   "execution_count": 35,
   "metadata": {},
   "outputs": [
    {
     "name": "stdout",
     "output_type": "stream",
     "text": [
      "Losses = 2120\n",
      "Reward ratio = 0.62\n"
     ]
    }
   ],
   "source": [
    "print('Losses = %4.0f' % losses(y_test, rf_pred_class_test))\n",
    "print('Reward ratio = %4.2f' % reward_ratio(y_test, rf_pred_class_test))"
   ]
  },
  {
   "cell_type": "code",
   "execution_count": 36,
   "metadata": {},
   "outputs": [
    {
     "data": {
      "image/png": "[encoded data removed]",
      "text/plain": [
       "<Figure size 360x360 with 1 Axes>"
      ]
     },
     "metadata": {
      "needs_background": "light"
     },
     "output_type": "display_data"
    }
   ],
   "source": [
    "from sklearn.metrics import roc_curve\n",
    "fpr, tpr, mpr = roc_curve(y_test, rf_pred_proba_test)\n",
    "plt.figure(figsize = (5, 5))\n",
    "plt.title('ROC Curve')\n",
    "plt.plot([1, 0], [1,0], linestyle = '--', color = 'black')\n",
    "plt.plot(fpr, tpr, color = 'red')\n",
    "plt.show()"
   ]
  },
  {
   "cell_type": "code",
   "execution_count": 37,
   "metadata": {},
   "outputs": [
    {
     "name": "stdout",
     "output_type": "stream",
     "text": [
      "                        importance\n",
      "UNIQUE_SUBS_CALLED_OUT    0.192485\n",
      "UNIQUE_SUBS_CALLED_IN     0.107377\n",
      "VOICE9                    0.097366\n",
      "VOICE10                   0.073439\n",
      "bin_PP_OTHER_ONNET        0.059345\n",
      "DATA_REVENUE              0.056515\n",
      "VAS_REVENUE               0.052721\n",
      "RECHARGES_QUANTITY        0.049128\n",
      "RECHARGES_SUM             0.041037\n",
      "ratio_unique_subs         0.038305\n"
     ]
    }
   ],
   "source": [
    "importances = pd.DataFrame(rf_model.feature_importances_, index=train_columns, columns=['importance']).sort_values(by = 'importance', ascending = False)\n",
    "print(importances.head(10))"
   ]
  },
  {
   "cell_type": "markdown",
   "metadata": {},
   "source": [
    "# KNN"
   ]
  },
  {
   "cell_type": "code",
   "execution_count": 38,
   "metadata": {},
   "outputs": [
    {
     "name": "stdout",
     "output_type": "stream",
     "text": [
      "{'n_neighbors': 2}\n"
     ]
    }
   ],
   "source": [
    "KNN = KNeighborsClassifier()\n",
    "knn_params = {'n_neighbors': range(1, 30)}\n",
    "gscvknn = GridSearchCV(estimator = KNN, param_grid = knn_params, scoring = 'precision', cv = kf)\n",
    "gscvknn.fit(X_train, y_train)\n",
    "print(gscvknn.best_params_)"
   ]
  },
  {
   "cell_type": "code",
   "execution_count": 39,
   "metadata": {},
   "outputs": [
    {
     "data": {
      "text/plain": [
       "KNeighborsClassifier(algorithm='auto', leaf_size=30, metric='minkowski',\n",
       "           metric_params=None, n_jobs=None, n_neighbors=2, p=2,\n",
       "           weights='uniform')"
      ]
     },
     "execution_count": 39,
     "metadata": {},
     "output_type": "execute_result"
    }
   ],
   "source": [
    "KNN_model = KNeighborsClassifier(n_neighbors=2)\n",
    "KNN_model.fit(X_train, y_train)"
   ]
  },
  {
   "cell_type": "code",
   "execution_count": 40,
   "metadata": {},
   "outputs": [
    {
     "name": "stdout",
     "output_type": "stream",
     "text": [
      "AUC ROC on train = 0.89\n",
      "AUC ROC on test = 0.50\n",
      "Accuracy on train = 0.90\n",
      "Accuracy on test = 0.79\n",
      "Recall on train = 0.91\n",
      "Recall on test = 0.84\n",
      "Precision on train = 0.98\n",
      "Precision on test = 0.93\n"
     ]
    }
   ],
   "source": [
    "knn_pred_proba_train = KNN_model.predict_proba(X_train)[:, 1]\n",
    "knn_pred_proba_test = KNN_model.predict_proba(X_test)[:, 1]\n",
    "knn_pred_class_train = KNN_model.predict(X_train)\n",
    "knn_pred_class_test = KNN_model.predict(X_test)\n",
    "print('AUC ROC on train = %4.2f' % roc_auc_score(y_train, knn_pred_proba_train))\n",
    "print('AUC ROC on test = %4.2f' %roc_auc_score(y_test, knn_pred_proba_test))\n",
    "print('Accuracy on train = %4.2f' %accuracy_score(y_train, knn_pred_class_train))\n",
    "print('Accuracy on test = %4.2f' %accuracy_score(y_test, knn_pred_class_test))\n",
    "print('Recall on train = %4.2f' %recall_score(y_train, knn_pred_class_train))\n",
    "print('Recall on test = %4.2f' %recall_score(y_test, knn_pred_class_test))\n",
    "print('Precision on train = %4.2f' %precision_score(y_train, knn_pred_class_train))\n",
    "print('Precision on test = %4.2f' %precision_score(y_test, knn_pred_class_test))"
   ]
  },
  {
   "cell_type": "markdown",
   "metadata": {},
   "source": [
    "### KNN (undersampling)"
   ]
  },
  {
   "cell_type": "code",
   "execution_count": 41,
   "metadata": {},
   "outputs": [
    {
     "name": "stdout",
     "output_type": "stream",
     "text": [
      "{'n_neighbors': 2}\n"
     ]
    }
   ],
   "source": [
    "KNN = KNeighborsClassifier()\n",
    "knn_params = {'n_neighbors': range(1, 30)}\n",
    "gscvknn = GridSearchCV(estimator = KNN, param_grid = knn_params, scoring = 'precision', cv = kf)\n",
    "gscvknn.fit(X_train_undersampled, y_train_undersampled)\n",
    "print(gscvknn.best_params_)"
   ]
  },
  {
   "cell_type": "code",
   "execution_count": 42,
   "metadata": {},
   "outputs": [
    {
     "data": {
      "text/plain": [
       "KNeighborsClassifier(algorithm='auto', leaf_size=30, metric='minkowski',\n",
       "           metric_params=None, n_jobs=None, n_neighbors=2, p=2,\n",
       "           weights='uniform')"
      ]
     },
     "execution_count": 42,
     "metadata": {},
     "output_type": "execute_result"
    }
   ],
   "source": [
    "KNN_model = KNeighborsClassifier(n_neighbors=2)\n",
    "KNN_model.fit(X_train_undersampled, y_train_undersampled)"
   ]
  },
  {
   "cell_type": "code",
   "execution_count": 43,
   "metadata": {},
   "outputs": [],
   "source": [
    "knn_pred_class_test = KNN_model.predict(X_test_under)"
   ]
  },
  {
   "cell_type": "code",
   "execution_count": 44,
   "metadata": {},
   "outputs": [
    {
     "name": "stdout",
     "output_type": "stream",
     "text": [
      "Losses = 1640\n",
      "Reward ratio = 0.48\n"
     ]
    }
   ],
   "source": [
    "print('Losses = %4.0f' % losses(y_test, knn_pred_class_test))\n",
    "print('Reward ratio = %4.2f' % reward_ratio(y_test, knn_pred_class_test))"
   ]
  }
 ],
 "metadata": {
  "kernelspec": {
   "display_name": "Python 3",
   "language": "python",
   "name": "python3"
  },
  "language_info": {
   "codemirror_mode": {
    "name": "ipython",
    "version": 3
   },
   "file_extension": ".py",
   "mimetype": "text/x-python",
   "name": "python",
   "nbconvert_exporter": "python",
   "pygments_lexer": "ipython3",
   "version": "3.6.5"
  }
 },
 "nbformat": 4,
 "nbformat_minor": 2
}
